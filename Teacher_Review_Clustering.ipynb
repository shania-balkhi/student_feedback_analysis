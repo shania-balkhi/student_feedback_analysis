{
  "nbformat": 4,
  "nbformat_minor": 0,
  "metadata": {
    "colab": {
      "provenance": [],
      "authorship_tag": "ABX9TyOiQcCAOJmfBTtfFz0PGgaJ"
    },
    "kernelspec": {
      "name": "python3",
      "display_name": "Python 3"
    },
    "language_info": {
      "name": "python"
    }
  },
  "cells": [
    {
      "cell_type": "code",
      "execution_count": 1,
      "metadata": {
        "id": "_YTiD1uM2yiJ",
        "colab": {
          "base_uri": "https://localhost:8080/"
        },
        "outputId": "67f52e9f-80aa-4a4b-8fbe-f5db55193c37"
      },
      "outputs": [
        {
          "output_type": "stream",
          "name": "stdout",
          "text": [
            "Mounted at /content/drive\n"
          ]
        }
      ],
      "source": [
        "from google.colab import drive\n",
        "drive.mount('/content/drive')"
      ]
    },
    {
      "cell_type": "code",
      "source": [
        "!unzip /content/drive/MyDrive/final_dataset_teacher.zip"
      ],
      "metadata": {
        "id": "fwfpVEtI27jM",
        "colab": {
          "base_uri": "https://localhost:8080/"
        },
        "outputId": "6f187842-e4fb-4455-be3d-c80a9098751b"
      },
      "execution_count": 2,
      "outputs": [
        {
          "output_type": "stream",
          "name": "stdout",
          "text": [
            "Archive:  /content/drive/MyDrive/final_dataset_teacher.zip\n",
            "  inflating: benchmark_dataset.csv   \n",
            "  inflating: benchmark_dataset_semi_supervised.csv  \n",
            "  inflating: final_complete_teacher_dataset.csv  \n",
            "  inflating: final_dataset_teacher.csv  \n",
            "  inflating: final_dataset_teacher_semi_supervised.csv  \n"
          ]
        }
      ]
    },
    {
      "cell_type": "code",
      "source": [
        "# Importing libraries and modules\n",
        "import numpy as np\n",
        "import pandas as pd\n",
        "import scipy\n",
        "from scipy.spatial.distance import pdist\n",
        "from scipy.cluster.hierarchy import linkage, cut_tree, set_link_color_palette, dendrogram\n",
        "from matplotlib import pyplot as plt\n",
        "from sklearn.cluster import AgglomerativeClustering\n",
        "from sklearn.metrics import f1_score\n",
        "from sklearn.metrics import ConfusionMatrixDisplay, confusion_matrix"
      ],
      "metadata": {
        "id": "fdWHqCWa3WBH"
      },
      "execution_count": 3,
      "outputs": []
    },
    {
      "cell_type": "code",
      "source": [
        "# Reading the first dataset and dropping irrelevant columns\n",
        "df2 = pd.read_csv(\"benchmark_dataset.csv\")\n",
        "df1 = df2.drop(df2.columns[[0, 1, 12, 13]], axis=1)\n",
        "\n",
        "X1 = df2[['q1', 'q2', 'q3', 'q4', 'q5', 'q6', 'q7', 'q8', 'q9', 'q10']].to_numpy()\n",
        "for j in range(len(X1)):\n",
        "  for i in range(len(X1[0])):\n",
        "    if i == 0 or i == 5 or i == 7:\n",
        "      X1[j][i] *= 4\n",
        "    elif i == 1 or i == 6:\n",
        "      X1[j][i] *= 2\n",
        "    elif i == 2:\n",
        "      X1[j][i] *= 1\n",
        "    elif i == 3 or i == 4 or i == 9:\n",
        "      X1[j][i] *= 5\n",
        "    else:\n",
        "      X1[j][i] *= 3"
      ],
      "metadata": {
        "id": "wLEn3xdIbr2y"
      },
      "execution_count": 22,
      "outputs": []
    },
    {
      "cell_type": "code",
      "source": [
        "# Reading the second dataset and dropping irrelevant columns\n",
        "d = pd.read_csv(\"final_dataset_teacher.csv\")\n",
        "df = d.drop(d.columns[[0, 1, 12, 13]], axis=1)\n",
        "\n",
        "X = df[['q1', 'q2', 'q3', 'q4', 'q5', 'q6', 'q7', 'q8', 'q9', 'q10']].to_numpy()\n",
        "for j in range(len(X)):\n",
        "  for i in range(len(X[0])):\n",
        "    if i == 0 or i == 5 or i == 7:\n",
        "      X[j][i] *= 4\n",
        "    elif i == 1 or i == 6:\n",
        "      X[j][i] *= 2\n",
        "    elif i == 2:\n",
        "      X[j][i] *= 1\n",
        "    elif i == 3 or i == 4 or i == 9:\n",
        "      X[j][i] *= 5\n",
        "    else:\n",
        "      X[j][i] *= 3"
      ],
      "metadata": {
        "id": "GfBR6FMO3Yb0"
      },
      "execution_count": 23,
      "outputs": []
    },
    {
      "cell_type": "code",
      "source": [
        "# Calculate distances between teachers based on average performance\n",
        "distances = pdist(X)\n",
        "distances1 = pdist(X1)"
      ],
      "metadata": {
        "id": "nDCQRznJ5mAS"
      },
      "execution_count": 24,
      "outputs": []
    },
    {
      "cell_type": "code",
      "source": [
        "# Perform single-link hierarchical clustering\n",
        "Z = linkage(distances, method=\"ward\")\n",
        "Z1 = linkage(distances1, method=\"ward\")"
      ],
      "metadata": {
        "id": "Iq6QqgB55n5d"
      },
      "execution_count": 25,
      "outputs": []
    },
    {
      "cell_type": "code",
      "source": [
        "# Cut the tree at threshold to obtain 3 clusters\n",
        "threshold = max(Z[:, 1]) * 0.7\n",
        "T = cut_tree(Z, n_clusters=None, height=threshold)"
      ],
      "metadata": {
        "id": "fQ1ex93s5vCV"
      },
      "execution_count": 26,
      "outputs": []
    },
    {
      "cell_type": "code",
      "source": [
        "threshold1 = max(Z1[:, 1]) * 0.15\n",
        "T1 = cut_tree(Z1, n_clusters=None, height=threshold1)"
      ],
      "metadata": {
        "id": "AKCoEM1lBV1c"
      },
      "execution_count": null,
      "outputs": []
    },
    {
      "cell_type": "code",
      "source": [
        "def get_cat(num):\n",
        "  if num < 3:\n",
        "    return \"Poor\"\n",
        "  elif num >=3 and num < 4:\n",
        "    return \"Mediocre\"\n",
        "  else:\n",
        "    return \"Excellent\""
      ],
      "metadata": {
        "id": "VRXqxm9UNemu"
      },
      "execution_count": 48,
      "outputs": []
    },
    {
      "cell_type": "code",
      "source": [
        "# Assign categories based on cluster membership and performance\n",
        "categories = [(T[i][0] + 1) for i in range(len(T))]\n",
        "fin_cat = [(T[i][0]) for i in range(len(T))]\n",
        "avgs = d[\"average\"]\n",
        "s1, s2, s3 = 0, 0, 0\n",
        "c1, c2, c3 = 0, 0, 0\n",
        "p = 0\n",
        "for c in categories:\n",
        "  if c == 1:\n",
        "    s1 += avgs[p]\n",
        "    c1 += 1\n",
        "  elif c == 2:\n",
        "    s2 += avgs[p]\n",
        "    c2 += 1\n",
        "  else:\n",
        "    s3 += avgs[p]\n",
        "    c3 += 1\n",
        "  p += 1\n",
        "avg1 = s1/c1\n",
        "avg2 = s2/c2\n",
        "avg3 = s3/c3\n",
        "cat1 = get_cat(avg1)\n",
        "cat2 = get_cat(avg2)\n",
        "cat3 = get_cat(avg3)\n",
        "for i in range(len(categories)):\n",
        "  if categories[i] == 1:\n",
        "    categories[i] = cat1\n",
        "  elif categories[i] == 2:\n",
        "    categories[i] = cat2\n",
        "  else:\n",
        "    categories[i] = cat3"
      ],
      "metadata": {
        "id": "LdXrjnBc2lja"
      },
      "execution_count": 49,
      "outputs": []
    },
    {
      "cell_type": "code",
      "source": [
        "# Assign categories based on cluster membership and performance\n",
        "categories1 = [(T1[i][0] + 1) for i in range(len(T1))]\n",
        "fin_cat1 = [(T1[i][0]) for i in range(len(T1))]\n",
        "avgs1 = df2[\"average\"]\n",
        "s1, s2, s3 = 0, 0, 0\n",
        "c1, c2, c3 = 0, 0, 0\n",
        "p = 0\n",
        "for c in categories1:\n",
        "  if c == 1:\n",
        "    s1 += avgs1[p]\n",
        "    c1 += 1\n",
        "  elif c == 2:\n",
        "    s2 += avgs1[p]\n",
        "    c2 += 1\n",
        "  else:\n",
        "    s3 += avgs1[p]\n",
        "    c3 += 1\n",
        "  p += 1\n",
        "avg1 = s1/c1\n",
        "avg2 = s2/c2\n",
        "avg3 = s3/c3\n",
        "cat1 = get_cat(avg1)\n",
        "cat2 = get_cat(avg2)\n",
        "cat3 = get_cat(avg3)\n",
        "for i in range(len(categories1)):\n",
        "  if categories1[i] == 1:\n",
        "    categories1[i] = cat1\n",
        "  elif categories1[i] == 2:\n",
        "    categories1[i] = cat2\n",
        "  else:\n",
        "    categories1[i] = cat3"
      ],
      "metadata": {
        "id": "2onqHnZXdpe7"
      },
      "execution_count": 50,
      "outputs": []
    },
    {
      "cell_type": "code",
      "source": [
        "# Add new column with category to the original data\n",
        "d[\"category\"] = categories\n",
        "df2[\"category\"] = categories1"
      ],
      "metadata": {
        "id": "SUlGw64r2oHA"
      },
      "execution_count": 51,
      "outputs": []
    },
    {
      "cell_type": "code",
      "source": [
        "# Print the results\n",
        "print(d[[\"faculty_id\", \"category\"]].to_string())"
      ],
      "metadata": {
        "colab": {
          "base_uri": "https://localhost:8080/"
        },
        "id": "Ntb-9nwo2r5r",
        "outputId": "7dffaa4f-ca14-4ee2-a475-7bb407471954"
      },
      "execution_count": 52,
      "outputs": [
        {
          "output_type": "stream",
          "name": "stdout",
          "text": [
            "   faculty_id   category\n",
            "0           A       Poor\n",
            "1           B       Poor\n",
            "2           C       Poor\n",
            "3           D   Mediocre\n",
            "4           E  Excellent\n",
            "5           F   Mediocre\n",
            "6           G  Excellent\n",
            "7           H  Excellent\n",
            "8           I   Mediocre\n",
            "9           J  Excellent\n",
            "10          K   Mediocre\n",
            "11          L   Mediocre\n",
            "12          M       Poor\n",
            "13          N       Poor\n",
            "14          O  Excellent\n"
          ]
        }
      ]
    },
    {
      "cell_type": "code",
      "source": [
        "# Create the dendrogram (replace `T` with your cluster assignments)\n",
        "# Set the colour of the cluster here:\n",
        "set_link_color_palette(['#b30000','#996600', '#b30086'])\n",
        "\n",
        "# Make the dendrogram and give the colour above threshold\n",
        "dendrogram(Z, color_threshold=12, above_threshold_color='white')\n",
        "\n",
        "plt.xlabel(\"Teacher\")\n",
        "plt.ylabel(\"Distance\")\n",
        "plt.title(\"Agglomerative Hierarchical Clustering Dendrogram\")\n",
        "\n",
        "# Show the graph\n",
        "plt.show()"
      ],
      "metadata": {
        "colab": {
          "base_uri": "https://localhost:8080/",
          "height": 476
        },
        "id": "6Dt-2myxOP4v",
        "outputId": "180d8289-2bde-4523-d2e1-e731de344c0d"
      },
      "execution_count": 53,
      "outputs": [
        {
          "output_type": "display_data",
          "data": {
            "text/plain": [
              "<Figure size 640x480 with 1 Axes>"
            ],
            "image/png": "[encoded data removed]"
          },
          "metadata": {}
        }
      ]
    },
    {
      "cell_type": "code",
      "source": [
        "# Create a scatter plot based on your data and cluster assignments\n",
        "plt.figure(figsize=(8, 6))\n",
        "for label in np.unique(T):\n",
        "    indices = np.where(T == label)[0]\n",
        "    if label == 0:\n",
        "      ct = cat1\n",
        "    elif label == 1:\n",
        "      ct = cat2\n",
        "    else:\n",
        "      ct = cat3\n",
        "    plt.scatter(df.loc[indices, \"q1\"], df.loc[indices, \"q2\"], label=ct)\n",
        "plt.legend()\n",
        "plt.xlabel(\"Question 4 Score\")\n",
        "plt.ylabel(\"Question 5 Score\")\n",
        "plt.title(\"Scatter Plot of Clusters based on Performance\")\n",
        "plt.show()"
      ],
      "metadata": {
        "colab": {
          "base_uri": "https://localhost:8080/",
          "height": 564
        },
        "id": "TexNiM23RLVW",
        "outputId": "e5cbd908-e7c8-4ff1-92fc-bec80e14f1b0"
      },
      "execution_count": 54,
      "outputs": [
        {
          "output_type": "display_data",
          "data": {
            "text/plain": [
              "<Figure size 800x600 with 1 Axes>"
            ],
            "image/png": "[encoded data removed]"
          },
          "metadata": {}
        }
      ]
    },
    {
      "cell_type": "code",
      "source": [
        "ori_lab = df2['label'].to_numpy()\n",
        "f_cat = np.array(fin_cat1)"
      ],
      "metadata": {
        "id": "-8xILPh7i6K6"
      },
      "execution_count": 55,
      "outputs": []
    },
    {
      "cell_type": "code",
      "source": [
        "# Confusion matrix\n",
        "matrix = confusion_matrix(ori_lab, f_cat)"
      ],
      "metadata": {
        "id": "YCJm84hoeRrt"
      },
      "execution_count": 56,
      "outputs": []
    },
    {
      "cell_type": "code",
      "source": [
        "# Calculate F1-score\n",
        "f1 = f1_score(ori_lab, f_cat, average='weighted')"
      ],
      "metadata": {
        "id": "38y6W6PqiMEl"
      },
      "execution_count": 57,
      "outputs": []
    },
    {
      "cell_type": "code",
      "source": [
        "print(f\"F1-score: {f1}\")"
      ],
      "metadata": {
        "colab": {
          "base_uri": "https://localhost:8080/"
        },
        "id": "v8y5AugEk5P0",
        "outputId": "bf8b3941-25b5-4a02-c9d6-e58155d453c5"
      },
      "execution_count": 58,
      "outputs": [
        {
          "output_type": "stream",
          "name": "stdout",
          "text": [
            "F1-score: 0.7598145713388369\n"
          ]
        }
      ]
    },
    {
      "cell_type": "code",
      "source": [
        "disp = ConfusionMatrixDisplay(confusion_matrix=matrix)\n",
        "disp.plot()\n",
        "plt.show()"
      ],
      "metadata": {
        "colab": {
          "base_uri": "https://localhost:8080/",
          "height": 449
        },
        "id": "W5B8XKDCe2xi",
        "outputId": "7d52faa2-43d7-49be-b768-882dc24c562d"
      },
      "execution_count": 59,
      "outputs": [
        {
          "output_type": "display_data",
          "data": {
            "text/plain": [
              "<Figure size 640x480 with 2 Axes>"
            ],
            "image/png": "[encoded data removed]"
          },
          "metadata": {}
        }
      ]
    }
  ]
}